{
 "cells": [
  {
   "cell_type": "code",
   "execution_count": null,
   "metadata": {},
   "outputs": [],
   "source": [
    "arcpy.management.XYTableToPoint(\"allbirds.csv\", r\"birds.gdb\\allbirds_XYTableToPoint\", \"LONGITUDE\", \"LATITUDE\", None, 'GEOGCS[\"GCS_WGS_1984\",DATUM[\"D_WGS_1984\",SPHEROID[\"WGS_1984\",6378137.0,298.257223563]],PRIMEM[\"Greenwich\",0.0],UNIT[\"Degree\",0.0174532925199433]];-400 -400 1000000000;-100000 10000;-100000 10000;8.98315284119521E-09;0.001;0.001;IsHighPrecision')"
   ]
  },
  {
   "cell_type": "code",
   "execution_count": null,
   "metadata": {},
   "outputs": [],
   "source": [
    "arcpy.analysis.Clip(\"cb_2018_us_county_20m\", \"NPS_-_Land_Resources_Division_Boundary_and_Tract_Data_Service\", r\"birds.gdb\\cb_2018_us_county_20m_Clip\", None)"
   ]
  },
  {
   "cell_type": "code",
   "execution_count": null,
   "metadata": {},
   "outputs": [],
   "source": [
    "arcpy.analysis.Erase(\"cb_2018_us_county_20m\", \"cb_2018_us_county_20m_Clip\", r\"bird.gdb\\cb_2018_us_county_20m__Erase\", None)"
   ]
  },
  {
   "cell_type": "code",
   "execution_count": null,
   "metadata": {},
   "outputs": [],
   "source": [
    "arcpy.management.Merge(\"cb_2018_us_county_20m__Erase;NPS_-_Land_Resources_Division_Boundary_and_Tract_Data_Service\", r\"bird.gdb\\Merge\", 'STATEFP \"STATEFP\" true true false 2 Text 0 0,First,#,cb_2018_us_county_20m__Erase,STATEFP,0,2;COUNTYFP \"COUNTYFP\" true true false 3 Text 0 0,First,#,cb_2018_us_county_20m__Erase,COUNTYFP,0,3;COUNTYNS \"COUNTYNS\" true true false 8 Text 0 0,First,#,cb_2018_us_county_20m__Erase,COUNTYNS,0,8;AFFGEOID \"AFFGEOID\" true true false 14 Text 0 0,First,#,cb_2018_us_county_20m__Erase,AFFGEOID,0,14;GEOID \"GEOID\" true true false 5 Text 0 0,First,#,cb_2018_us_county_20m__Erase,GEOID,0,5;NAME \"NAME\" true true false 100 Text 0 0,First,#,cb_2018_us_county_20m__Erase,NAME,0,100;LSAD \"LSAD\" true true false 2 Text 0 0,First,#,cb_2018_us_county_20m__Erase,LSAD,0,2;ALAND \"ALAND\" true true false 8 Double 0 0,First,#,cb_2018_us_county_20m__Erase,ALAND,-1,-1;AWATER \"AWATER\" true true false 8 Double 0 0,First,#,cb_2018_us_county_20m__Erase,AWATER,-1,-1;Shape_Length \"Shape_Length\" false true true 8 Double 0 0,First,#,cb_2018_us_county_20m__Erase,Shape_Length,-1,-1;Shape_Area \"Shape_Area\" false true true 8 Double 0 0,First,#,cb_2018_us_county_20m__Erase,Shape_Area,-1,-1', \"NO_SOURCE_INFO\")"
   ]
  },
  {
   "cell_type": "code",
   "execution_count": null,
   "metadata": {},
   "outputs": [],
   "source": [
    "arcpy.management.SelectLayerByAttribute(\"Merge\", \"NEW_SELECTION\", \"STATEFP IS NULL\", None)"
   ]
  },
  {
   "cell_type": "code",
   "execution_count": null,
   "metadata": {},
   "outputs": [],
   "source": [
    "arcpy.analysis.SpatialJoin(\"Merge\", \"allbirds_XYTableToPoint\", r\"bird.gdb\\SpatialJoin\", \"JOIN_ONE_TO_ONE\", \"KEEP_ALL\", 'STATEFP \"STATEFP\" true true false 2 Text 0 0,First,#,Merge,STATEFP,0,2;COUNTYFP \"COUNTYFP\" true true false 3 Text 0 0,First,#,Merge,COUNTYFP,0,3;COUNTYNS \"COUNTYNS\" true true false 8 Text 0 0,First,#,Merge,COUNTYNS,0,8;AFFGEOID \"AFFGEOID\" true true false 14 Text 0 0,First,#,Merge,AFFGEOID,0,14;GEOID \"GEOID\" true true false 5 Text 0 0,First,#,Merge,GEOID,0,5;NAME \"NAME\" true true false 100 Text 0 0,First,#,Merge,NAME,0,100;LSAD \"LSAD\" true true false 2 Text 0 0,First,#,Merge,LSAD,0,2;ALAND \"ALAND\" true true false 8 Double 0 0,First,#,Merge,ALAND,-1,-1;AWATER \"AWATER\" true true false 8 Double 0 0,First,#,Merge,AWATER,-1,-1;Shape_Length \"Shape_Length\" false true true 8 Double 0 0,First,#,Merge,Shape_Length,-1,-1;Shape_Area \"Shape_Area\" false true true 8 Double 0 0,First,#,Merge,Shape_Area,-1,-1;LAST_EDITED_DATE \"LAST EDITED DATE\" true true false 8000 Text 0 0,First,#,allbirds_XYTableToPoint,LAST_EDITED_DATE,0,8000;TAXONOMIC_ORDER \"TAXONOMIC ORDER\" true true false 4 Long 0 0,First,#,allbirds_XYTableToPoint,TAXONOMIC_ORDER,-1,-1;CATEGORY \"CATEGORY\" true true false 8000 Text 0 0,First,#,allbirds_XYTableToPoint,CATEGORY,0,8000;TAXON_CONCEPT_ID \"TAXON CONCEPT ID\" true true false 8000 Text 0 0,First,#,allbirds_XYTableToPoint,TAXON_CONCEPT_ID,0,8000;COMMON_NAME \"COMMON NAME\" true true false 8000 Text 0 0,First,#,allbirds_XYTableToPoint,COMMON_NAME,0,8000;SCIENTIFIC_NAME \"SCIENTIFIC NAME\" true true false 8000 Text 0 0,First,#,allbirds_XYTableToPoint,SCIENTIFIC_NAME,0,8000;SUBSPECIES_COMMON_NAME \"SUBSPECIES COMMON NAME\" true true false 8000 Text 0 0,First,#,allbirds_XYTableToPoint,SUBSPECIES_COMMON_NAME,0,8000;SUBSPECIES_SCIENTIFIC_NAME \"SUBSPECIES SCIENTIFIC NAME\" true true false 8000 Text 0 0,First,#,allbirds_XYTableToPoint,SUBSPECIES_SCIENTIFIC_NAME,0,8000;EXOTIC_CODE \"EXOTIC CODE\" true true false 8000 Text 0 0,First,#,allbirds_XYTableToPoint,EXOTIC_CODE,0,8000;OBSERVATION_COUNT \"OBSERVATION COUNT\" true true false 8000 Text 0 0,First,#,allbirds_XYTableToPoint,OBSERVATION_COUNT,0,8000;BREEDING_CODE \"BREEDING CODE\" true true false 8000 Text 0 0,First,#,allbirds_XYTableToPoint,BREEDING_CODE,0,8000;BREEDING_CATEGORY \"BREEDING CATEGORY\" true true false 8000 Text 0 0,First,#,allbirds_XYTableToPoint,BREEDING_CATEGORY,0,8000;BEHAVIOR_CODE \"BEHAVIOR CODE\" true true false 8000 Text 0 0,First,#,allbirds_XYTableToPoint,BEHAVIOR_CODE,0,8000;AGE_SEX \"AGE/SEX\" true true false 8000 Text 0 0,First,#,allbirds_XYTableToPoint,AGE_SEX,0,8000;COUNTRY \"COUNTRY\" true true false 8000 Text 0 0,First,#,allbirds_XYTableToPoint,COUNTRY,0,8000;COUNTRY_CODE \"COUNTRY CODE\" true true false 8000 Text 0 0,First,#,allbirds_XYTableToPoint,COUNTRY_CODE,0,8000;STATE \"STATE\" true true false 8000 Text 0 0,First,#,allbirds_XYTableToPoint,STATE,0,8000;STATE_CODE \"STATE CODE\" true true false 8000 Text 0 0,First,#,allbirds_XYTableToPoint,STATE_CODE,0,8000;COUNTY \"COUNTY\" true true false 8000 Text 0 0,First,#,allbirds_XYTableToPoint,COUNTY,0,8000;COUNTY_CODE \"COUNTY CODE\" true true false 8000 Text 0 0,First,#,allbirds_XYTableToPoint,COUNTY_CODE,0,8000;IBA_CODE \"IBA CODE\" true true false 8000 Text 0 0,First,#,allbirds_XYTableToPoint,IBA_CODE,0,8000;BCR_CODE \"BCR CODE\" true true false 4 Long 0 0,First,#,allbirds_XYTableToPoint,BCR_CODE,-1,-1;USFWS_CODE \"USFWS CODE\" true true false 8000 Text 0 0,First,#,allbirds_XYTableToPoint,USFWS_CODE,0,8000;ATLAS_BLOCK \"ATLAS BLOCK\" true true false 8000 Text 0 0,First,#,allbirds_XYTableToPoint,ATLAS_BLOCK,0,8000;LOCALITY \"LOCALITY\" true true false 8000 Text 0 0,First,#,allbirds_XYTableToPoint,LOCALITY,0,8000;LOCALITY_ID \"LOCALITY ID\" true true false 8000 Text 0 0,First,#,allbirds_XYTableToPoint,LOCALITY_ID,0,8000;LOCALITY_TYPE \"LOCALITY TYPE\" true true false 8000 Text 0 0,First,#,allbirds_XYTableToPoint,LOCALITY_TYPE,0,8000;LATITUDE \"LATITUDE\" true true false 8 Double 0 0,First,#,allbirds_XYTableToPoint,LATITUDE,-1,-1;LONGITUDE \"LONGITUDE\" true true false 8 Double 0 0,First,#,allbirds_XYTableToPoint,LONGITUDE,-1,-1;OBSERVATION_DATE \"OBSERVATION DATE\" true true false 8 Date 0 0,First,#,allbirds_XYTableToPoint,OBSERVATION_DATE,-1,-1;TIME_OBSERVATIONS_STARTED \"TIME OBSERVATIONS STARTED\" true true false 8000 Text 0 0,First,#,allbirds_XYTableToPoint,TIME_OBSERVATIONS_STARTED,0,8000;OBSERVER_ID \"OBSERVER ID\" true true false 8000 Text 0 0,First,#,allbirds_XYTableToPoint,OBSERVER_ID,0,8000;SAMPLING_EVENT_IDENTIFIER \"SAMPLING EVENT IDENTIFIER\" true true false 8000 Text 0 0,First,#,allbirds_XYTableToPoint,SAMPLING_EVENT_IDENTIFIER,0,8000;PROTOCOL_TYPE \"PROTOCOL TYPE\" true true false 8000 Text 0 0,First,#,allbirds_XYTableToPoint,PROTOCOL_TYPE,0,8000;DURATION_MINUTES \"DURATION MINUTES\" true true false 4 Long 0 0,First,#,allbirds_XYTableToPoint,DURATION_MINUTES,-1,-1;EFFORT_DISTANCE_KM \"EFFORT DISTANCE KM\" true true false 8 Double 0 0,First,#,allbirds_XYTableToPoint,EFFORT_DISTANCE_KM,-1,-1;EFFORT_AREA_HA \"EFFORT AREA HA\" true true false 8 Double 0 0,First,#,allbirds_XYTableToPoint,EFFORT_AREA_HA,-1,-1;NUMBER_OBSERVERS \"NUMBER OBSERVERS\" true true false 4 Long 0 0,First,#,allbirds_XYTableToPoint,NUMBER_OBSERVERS,-1,-1;TRIP_COMMENTS \"TRIP COMMENTS\" true true false 8000 Text 0 0,First,#,allbirds_XYTableToPoint,TRIP_COMMENTS,0,8000;SPECIES_COMMENTS \"SPECIES COMMENTS\" true true false 8000 Text 0 0,First,#,allbirds_XYTableToPoint,SPECIES_COMMENTS,0,8000', \"INTERSECT\", None, '')"
   ]
  },
  {
   "cell_type": "code",
   "execution_count": null,
   "metadata": {},
   "outputs": [],
   "source": [
    "arcpy.management.SelectLayerByLocation(\"SpatialJoin\", \"WITHIN_A_DISTANCE\", \"NPS_-_Land_Resources_Division_Boundary_and_Tract_Data_Service\", \"50 Kilometers\", \"NEW_SELECTION\", \"NOT_INVERT\")"
   ]
  },
  {
   "cell_type": "code",
   "execution_count": null,
   "metadata": {},
   "outputs": [],
   "source": [
    "arcpy.stats.OptimizedHotSpotAnalysis(\"allbirds_XYTableToPoint\", r\"bird.gdb\\allbirds_XYTableToPoint_OptimizedHotSpotAnalysis\", None, \"COUNT_INCIDENTS_WITHIN_FISHNET_POLYGONS\", \"cb_2018_us_county_20m\", None, None, None, None)"
   ]
  }
 ],
 "metadata": {
  "language_info": {
   "name": "python"
  },
  "orig_nbformat": 4
 },
 "nbformat": 4,
 "nbformat_minor": 2
}
